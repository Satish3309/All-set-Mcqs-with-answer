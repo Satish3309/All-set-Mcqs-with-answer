{
 "cells": [
  {
   "cell_type": "code",
   "execution_count": 2,
   "id": "236d4978",
   "metadata": {
    "id": "236d4978"
   },
   "outputs": [
    {
     "ename": "NameError",
     "evalue": "name 'GCD' is not defined",
     "output_type": "error",
     "traceback": [
      "\u001b[1;31m---------------------------------------------------------------------------\u001b[0m",
      "\u001b[1;31mNameError\u001b[0m                                 Traceback (most recent call last)",
      "Cell \u001b[1;32mIn[2], line 6\u001b[0m\n\u001b[0;32m      4\u001b[0m \u001b[38;5;28;01mimport\u001b[39;00m \u001b[38;5;21;01mmath\u001b[39;00m\n\u001b[0;32m      5\u001b[0m num\u001b[38;5;241m=\u001b[39m[\u001b[38;5;241m30\u001b[39m,\u001b[38;5;241m60\u001b[39m]\n\u001b[1;32m----> 6\u001b[0m GCD\u001b[38;5;241m=\u001b[39mGCD(num)\n\u001b[0;32m      7\u001b[0m \u001b[38;5;28mprint\u001b[39m(GCD)\n",
      "\u001b[1;31mNameError\u001b[0m: name 'GCD' is not defined"
     ]
    }
   ],
   "source": [
    "#1.Find the GCD of Two Numbers\n",
    "#Question: Write a Python program to find the Greatest Common Divisor (GCD) of 36 and 60.\n",
    "\n",
    "import math\n",
    "num=[36,60]\n",
    "GCD=GCD(num)\n",
    "print(GCD) #ans 6"
   ]
  },
  {
   "cell_type": "code",
   "execution_count": 1,
   "id": "e1bfc6af",
   "metadata": {
    "id": "e1bfc6af"
   },
   "outputs": [
    {
     "name": "stdout",
     "output_type": "stream",
     "text": [
      "24\n"
     ]
    }
   ],
   "source": [
    "#2. Find the Sum of Digits of a Number\n",
    "#Question: Write a Python program to find the sum of the digits of the number 987.\n",
    "#split given number \n",
    "num=[9,8,7]\n",
    "total=sum(num)\n",
    "print(total)\n"
   ]
  },
  {
   "cell_type": "code",
   "execution_count": null,
   "id": "e051bb22",
   "metadata": {
    "id": "e051bb22"
   },
   "outputs": [],
   "source": [
    "#3. Find All Armstrong Numbers Between 1 and 1000\n",
    "#Question: Write a Python program to print all Armstrong numbers between 1 and 1000.\n",
    "#the number which is add its digit and power ans will be same\n"
   ]
  },
  {
   "cell_type": "code",
   "execution_count": 3,
   "id": "dbffe07b",
   "metadata": {
    "id": "dbffe07b"
   },
   "outputs": [
    {
     "name": "stdout",
     "output_type": "stream",
     "text": [
      "p\n",
      "r\n",
      "o\n",
      "g\n",
      "r\n",
      "a\n",
      "m\n",
      "m\n",
      "i\n",
      "n\n",
      "g\n"
     ]
    }
   ],
   "source": [
    "#4.Count the Frequency of Each Character in a String\n",
    "#Question: Write a Python program to count the frequency of each character in \"programming\".\n",
    "char='programming'\n",
    "for i in char:\n",
    "    print(i)\n"
   ]
  },
  {
   "cell_type": "code",
   "execution_count": 7,
   "id": "f092013b",
   "metadata": {
    "id": "f092013b"
   },
   "outputs": [
    {
     "name": "stdout",
     "output_type": "stream",
     "text": [
      "[1, 4, 9, 16, 25, 36, 49, 64, 81, 100]\n"
     ]
    }
   ],
   "source": [
    "#5. Generate a List of Squares of Numbers from 1 to 10\n",
    "#Question: Write a Python program to generate a list containing squares of numbers from 1 to 10.\n",
    "\n",
    "squres=list(x**2 for x in range(1,11))\n",
    "print (squres)\n"
   ]
  },
  {
   "cell_type": "code",
   "execution_count": null,
   "id": "3b44c858",
   "metadata": {
    "id": "3b44c858"
   },
   "outputs": [],
   "source": []
  },
  {
   "cell_type": "code",
   "execution_count": null,
   "id": "3d849771",
   "metadata": {
    "id": "3d849771"
   },
   "outputs": [],
   "source": []
  },
  {
   "cell_type": "code",
   "execution_count": null,
   "id": "7840dd7f",
   "metadata": {
    "id": "7840dd7f"
   },
   "outputs": [],
   "source": []
  },
  {
   "cell_type": "code",
   "execution_count": null,
   "id": "e7d58228",
   "metadata": {
    "id": "e7d58228"
   },
   "outputs": [],
   "source": []
  },
  {
   "cell_type": "code",
   "execution_count": null,
   "id": "85a782d9",
   "metadata": {
    "id": "85a782d9"
   },
   "outputs": [],
   "source": []
  }
 ],
 "metadata": {
  "colab": {
   "provenance": []
  },
  "kernelspec": {
   "display_name": "Python 3 (ipykernel)",
   "language": "python",
   "name": "python3"
  },
  "language_info": {
   "codemirror_mode": {
    "name": "ipython",
    "version": 3
   },
   "file_extension": ".py",
   "mimetype": "text/x-python",
   "name": "python",
   "nbconvert_exporter": "python",
   "pygments_lexer": "ipython3",
   "version": "3.12.7"
  }
 },
 "nbformat": 4,
 "nbformat_minor": 5
}
