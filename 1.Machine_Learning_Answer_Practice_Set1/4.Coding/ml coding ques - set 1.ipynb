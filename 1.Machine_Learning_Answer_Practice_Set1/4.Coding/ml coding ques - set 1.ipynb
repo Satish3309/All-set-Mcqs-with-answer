{
 "cells": [
  {
   "cell_type": "code",
   "execution_count": 5,
   "id": "2f07bf40",
   "metadata": {},
   "outputs": [
    {
     "name": "stdout",
     "output_type": "stream",
     "text": [
      "total purchase amount per customer:\n",
      "   Customer_ID  Purchase_Amount\n",
      "0          101              520\n",
      "1          102              600\n",
      "2          103              480\n",
      "3          104              300\n",
      "4          105              400\n",
      "Top 3 Frequent Customers:\n",
      "   Customer_ID  Purchase_Amount\n",
      "1          102              600\n",
      "0          101              520\n",
      "2          103              480\n"
     ]
    }
   ],
   "source": [
    "#1.\n",
    "#Question 1:A retail store wants to identify customers who make frequent purchases. Given the dataset below, write a Python program to:\n",
    "#Group customers by their IDs.\n",
    "\n",
    "\n",
    "#Calculate the total purchase amount per customer.\n",
    "\n",
    "\n",
    "#Identify the top 3 customers with the highest purchase amounts.\n",
    "import pandas as pd\n",
    "\n",
    "#Dataset:\n",
    "data = {'Customer_ID': [101, 102, 103, 101, 104, 102, 101, 105, 102, 103],\n",
    "        'Purchase_Amount': [200, 150, 180, 220, 300, 200, 100, 400, 250, 300]}\n",
    "df=pd.DataFrame(data)\n",
    "#find total_purchases\n",
    "total_purchases = df.groupby('Customer_ID')['Purchase_Amount'].sum().reset_index()\n",
    "\n",
    "#top_customers\n",
    "top_customers = total_purchases.sort_values(by='Purchase_Amount', ascending=False).head(3)\n",
    "\n",
    "print('total purchase amount per customer:')\n",
    "print(total_purchases)\n",
    "print(\"Top 3 Frequent Customers:\")\n",
    "print(top_customers)\n",
    "\n",
    "\n"
   ]
  },
  {
   "cell_type": "code",
   "execution_count": 6,
   "id": "1b725120",
   "metadata": {},
   "outputs": [
    {
     "name": "stdout",
     "output_type": "stream",
     "text": [
      "Predicted Prices:\n",
      "[360000. 560000.]\n"
     ]
    },
    {
     "name": "stderr",
     "output_type": "stream",
     "text": [
      "C:\\Anaconda3.12.v\\envs\\aiml\\Lib\\site-packages\\sklearn\\base.py:493: UserWarning: X does not have valid feature names, but LinearRegression was fitted with feature names\n",
      "  warnings.warn(\n"
     ]
    }
   ],
   "source": [
    "#2. Predicting House Prices with Linear Regression\n",
    "#A real estate company wants to predict house prices based on square footage. Write a Python program to:\n",
    "#Train a Linear Regression model.\n",
    "\n",
    "#Plain python dictionary \n",
    "data = {'Square_Feet': [1500, 2000, 2500, 3000, 3500],\n",
    "        'Price': [300000, 400000, 500000, 600000, 700000]}\n",
    "\n",
    "import pandas as pd\n",
    "#convert dictionary to pandas organized dataframe for  easier to manipulate and analysis \n",
    "df = pd.DataFrame(data)\n",
    "\n",
    "# Splitting into input and output \n",
    "from sklearn.model_selection import train_test_split\n",
    "X = df[['Square_Feet']]\n",
    "y = df['Price']\n",
    "\n",
    "from sklearn.linear_model import LinearRegression\n",
    "# Training a Linear Regression Model\n",
    "model = LinearRegression()\n",
    "model.fit(X, y)\n",
    "\n",
    "# Now pass the test data for Prediction\n",
    "test_data = [[1800], [2800]]\n",
    "predictions = model.predict(test_data)\n",
    "\n",
    "print(\"Predicted Prices:\")\n",
    "print(predictions)\n"
   ]
  },
  {
   "cell_type": "code",
   "execution_count": 7,
   "id": "ea7563d9-8579-4bd8-a6d9-57dbbe3b4002",
   "metadata": {},
   "outputs": [
    {
     "name": "stdout",
     "output_type": "stream",
     "text": [
      "Total_Occurrences:\n",
      "  Category  Count\n",
      "0        A      4\n",
      "1        B      3\n",
      "2        C      3\n",
      "3        D      1\n",
      "4        E      1\n",
      "top 3 most frequent categories:\n",
      "  Category  Count\n",
      "0        A      4\n",
      "1        B      3\n",
      "2        C      3\n"
     ]
    }
   ],
   "source": [
    "#Dataset:\n",
    "data = {'Category': ['A', 'B', 'C', 'A', 'D', 'B', 'A', 'E', 'B', 'C', 'C', 'A'],\n",
    "        'Value': [10, 15, 20, 30, 25, 18, 22, 40, 35, 50, 45, 15]}\n",
    "import pandas as pd\n",
    "df=pd.DataFrame(data)\n",
    "\n",
    "\n",
    "# Splitting into input and output \n",
    "from sklearn.model_selection import train_test_split\n",
    "X = df[['Category']]\n",
    "y = df['Value']\n",
    "\n",
    "\n",
    "#find  the total occurrences of each category.\n",
    "Total_Occurrences= df.groupby('Category').size().reset_index(name='Count')\n",
    "\n",
    "\n",
    "#the top 3 most frequent categories.\n",
    "top_3_most_frequent_categories =Total_Occurrences.sort_values(by='Count', ascending=False).head(3)\n",
    "\n",
    "\n",
    "\n",
    "print('Total_Occurrences:')\n",
    "print(Total_Occurrences)\n",
    "print('top 3 most frequent categories:')\n",
    "print(top_3_most_frequent_categories)\n",
    "\n"
   ]
  },
  {
   "cell_type": "code",
   "execution_count": 8,
   "id": "e00c3d13",
   "metadata": {},
   "outputs": [
    {
     "ename": "SyntaxError",
     "evalue": "invalid syntax (2111153840.py, line 7)",
     "output_type": "error",
     "traceback": [
      "  \u001b[36mCell\u001b[39m\u001b[36m \u001b[39m\u001b[32mIn[8]\u001b[39m\u001b[32m, line 7\u001b[39m\n\u001b[31m    \u001b[39m\u001b[31mDisplay the updated DataFrame.\u001b[39m\n            ^\n\u001b[31mSyntaxError\u001b[39m\u001b[31m:\u001b[39m invalid syntax\n"
     ]
    }
   ],
   "source": [
    "#4.\n",
    "#Predicting Missing Values Using Mean Imputation\n",
    "#A dataset contains missing values in the Age column. Write a Python program to:\n",
    "#Replace missing values with the mean of the column.\n",
    "\n",
    "\n",
    "Display the updated DataFrame.\n",
    "\n",
    "\n",
    "Dataset:\n",
    "data = {'Name': ['Alice', 'Bob', 'Charlie', 'David', 'Eve'],\n",
    "        'Age': [25, 30, None, 35, None]}\n",
    "\n",
    "Expected Output:\n",
    "\n",
    "Original Data:\n",
    "     Name   Age\n",
    "0  Alice  25.0\n",
    "1    Bob  30.0\n",
    "2 Charlie   NaN\n",
    "3  David  35.0\n",
    "4    Eve   NaN\n",
    "\n",
    "Data after Imputation:\n",
    "     Name   Age\n",
    "0  Alice  25.0\n",
    "1    Bob  30.0\n",
    "2 Charlie  30.0\n",
    "3  David  35.0\n",
    "4    Eve  30.0\n"
   ]
  },
  {
   "cell_type": "code",
   "execution_count": 9,
   "id": "c1ea2ec3-5271-4e92-9741-c2ca514e874a",
   "metadata": {},
   "outputs": [
    {
     "name": "stdout",
     "output_type": "stream",
     "text": [
      "      Name   Age\n",
      "0    Alice  25.0\n",
      "1      Bob  30.0\n",
      "2  Charlie   NaN\n",
      "3    David  35.0\n",
      "4      Eve   NaN\n",
      "30.0\n",
      "Data after Imputation:\n",
      "      Name   Age\n",
      "0    Alice  25.0\n",
      "1      Bob  30.0\n",
      "2  Charlie  30.0\n",
      "3    David  35.0\n",
      "4      Eve  30.0\n"
     ]
    },
    {
     "name": "stderr",
     "output_type": "stream",
     "text": [
      "C:\\Users\\satis\\AppData\\Local\\Temp\\ipykernel_102300\\3651962368.py:14: FutureWarning: A value is trying to be set on a copy of a DataFrame or Series through chained assignment using an inplace method.\n",
      "The behavior will change in pandas 3.0. This inplace method will never work because the intermediate object on which we are setting values always behaves as a copy.\n",
      "\n",
      "For example, when doing 'df[col].method(value, inplace=True)', try using 'df.method({col: value}, inplace=True)' or df[col] = df[col].method(value) instead, to perform the operation inplace on the original object.\n",
      "\n",
      "\n",
      "  df['Age'].fillna(df['Age'].mean(), inplace=True)\n"
     ]
    }
   ],
   "source": [
    "#Ans\n",
    "\n",
    "# python dictionary \n",
    "data = {'Name': ['Alice', 'Bob', 'Charlie', 'David', 'Eve'],\n",
    "        'Age': [25, 30, None, 35, None]}\n",
    "\n",
    "#creating pandas dataframe \n",
    "import pandas as pd\n",
    "df = pd.DataFrame(data)\n",
    "print(df)\n",
    "\n",
    "\n",
    "# Replacing missing values with mean\n",
    "df['Age'].fillna(df['Age'].mean(), inplace=True)\n",
    "\n",
    "Mean=df['Age'].mean()\n",
    "print(Mean)\n",
    "\n",
    "# Display updated data\n",
    "print(\"Data after Imputation:\")\n",
    "print(df)"
   ]
  },
  {
   "cell_type": "code",
   "execution_count": 10,
   "id": "46620661",
   "metadata": {},
   "outputs": [
    {
     "name": "stdout",
     "output_type": "stream",
     "text": [
      "Predicted Salary for 6 years of experience: $55000.00\n"
     ]
    },
    {
     "name": "stderr",
     "output_type": "stream",
     "text": [
      "C:\\Anaconda3.12.v\\envs\\aiml\\Lib\\site-packages\\sklearn\\base.py:493: UserWarning: X does not have valid feature names, but LinearRegression was fitted with feature names\n",
      "  warnings.warn(\n"
     ]
    }
   ],
   "source": [
    "# 5: \n",
    "#Implementing a Simple Linear Regression Model\n",
    "#You are given a dataset with Experience (years) and Salary ($). Write a Python program to:\n",
    "#Train a Linear Regression model.\n",
    "\n",
    "\n",
    "#Predict the salary for an individual with 6 years of experience.\n",
    "\n",
    "\n",
    "# Creating a DataFrame\n",
    "data = {'Experience': [1, 2, 3, 4, 5], \n",
    "        'Salary': [30000, 35000, 40000, 45000, 50000]}\n",
    "df = pd.DataFrame(data)\n",
    "\n",
    "# Splitting into X and y\n",
    "X = df[['Experience']]\n",
    "y = df['Salary']\n",
    "\n",
    "# Training a Linear Regression Model\n",
    "model = LinearRegression()\n",
    "model.fit(X, y)\n",
    "\n",
    "# Predicting salary for 6 years of experience\n",
    "predicted_salary = model.predict([[6]])\n",
    "print(f\"Predicted Salary for 6 years of experience: ${predicted_salary[0]:.2f}\")\n",
    "\n"
   ]
  },
  {
   "cell_type": "code",
   "execution_count": 11,
   "id": "2af98454",
   "metadata": {},
   "outputs": [
    {
     "name": "stdout",
     "output_type": "stream",
     "text": [
      "   word_count is_spam\n",
      "0         100     ham\n",
      "1         150    spam\n",
      "2         200    spam\n",
      "3         120     ham\n",
      "4         180    spam\n",
      "5         220    spam\n",
      "0    0\n",
      "1    1\n",
      "2    1\n",
      "3    0\n",
      "4    1\n",
      "5    1\n",
      "Name: is_spam_encoded, dtype: int32\n",
      "Prediction for email with 200 words: Spam\n"
     ]
    },
    {
     "name": "stderr",
     "output_type": "stream",
     "text": [
      "C:\\Anaconda3.12.v\\envs\\aiml\\Lib\\site-packages\\sklearn\\base.py:493: UserWarning: X does not have valid feature names, but LogisticRegression was fitted with feature names\n",
      "  warnings.warn(\n"
     ]
    }
   ],
   "source": [
    "import pandas as pd\n",
    "from sklearn.linear_model import LogisticRegression\n",
    "from sklearn.preprocessing import LabelEncoder\n",
    "\n",
    "data = {'word_count': [100, 150, 200, 120, 180, 220], \n",
    "        'is_spam': ['ham', 'spam', 'spam', 'ham', 'spam', 'spam']}\n",
    "df = pd.DataFrame(data)\n",
    "print(df)\n",
    "\n",
    "label_encoder = LabelEncoder()\n",
    "df['is_spam_encoded'] = label_encoder.fit_transform(df['is_spam'])\n",
    "print(df['is_spam_encoded'])\n",
    "\n",
    "X = df[['word_count']]\n",
    "y = df['is_spam_encoded']\n",
    "model = LogisticRegression()\n",
    "model.fit(X, y)\n",
    "\n",
    "test_word_count = [[200]]\n",
    "prediction = model.predict(test_word_count)\n",
    "predicted_label = label_encoder.inverse_transform(prediction)\n",
    "\n",
    "print(\"Prediction for email with 200 words:\", predicted_label[0].capitalize())\n",
    "\n",
    "#Expected Output (Example):\n",
    "#Prediction for email with 200 words: Spam"
   ]
  },
  {
   "cell_type": "code",
   "execution_count": null,
   "id": "25d8eda0-1296-41f9-9282-05f47229f9d1",
   "metadata": {},
   "outputs": [],
   "source": []
  },
  {
   "cell_type": "code",
   "execution_count": null,
   "id": "e2b80060-811d-4529-804f-ee016e1172d0",
   "metadata": {},
   "outputs": [],
   "source": []
  },
  {
   "cell_type": "code",
   "execution_count": null,
   "id": "dca34f74-5e04-4b9b-916d-3690da8641ed",
   "metadata": {},
   "outputs": [],
   "source": []
  }
 ],
 "metadata": {
  "kernelspec": {
   "display_name": "Python 3 (ipykernel)",
   "language": "python",
   "name": "python3"
  },
  "language_info": {
   "codemirror_mode": {
    "name": "ipython",
    "version": 3
   },
   "file_extension": ".py",
   "mimetype": "text/x-python",
   "name": "python",
   "nbconvert_exporter": "python",
   "pygments_lexer": "ipython3",
   "version": "3.12.7"
  }
 },
 "nbformat": 4,
 "nbformat_minor": 5
}
