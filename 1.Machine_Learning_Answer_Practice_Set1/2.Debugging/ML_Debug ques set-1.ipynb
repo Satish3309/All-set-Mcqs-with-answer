{
 "cells": [
  {
   "cell_type": "code",
   "execution_count": 1,
   "id": "163c380c",
   "metadata": {},
   "outputs": [
    {
     "name": "stdout",
     "output_type": "stream",
     "text": [
      "   Feature1  Feature2\n",
      "0      10.0       5.5\n",
      "1      20.0       6.7\n",
      "2       NaN       8.9\n"
     ]
    }
   ],
   "source": [
    "#1.Debug the given code\n",
    "import pandas as pd\n",
    " \n",
    "data = {'Feature1': ['10', '20', 'Thirty'], \n",
    "        'Feature2': [5.5, 6.7, 8.9]}\n",
    "\n",
    "df = pd.DataFrame(data)\n",
    "df['Feature1']= pd.to_numeric(df['Feature1'], errors='coerce') #errors='coerce' \n",
    "#means any value that can't be converted (like 'Thirty') will be replaced with NaN.\n",
    "\n",
    "print(df)\n",
    "\n",
    "#Ans: 'Thirty' is not a valid number so change it as int pd.to_numeric\n"
   ]
  },
  {
   "cell_type": "code",
   "execution_count": 2,
   "id": "75ed407d",
   "metadata": {},
   "outputs": [
    {
     "name": "stdout",
     "output_type": "stream",
     "text": [
      "     A    B\n",
      "0  1.0  4.0\n",
      "1  2.0  5.0\n",
      "2  1.5  6.0\n"
     ]
    }
   ],
   "source": [
    "#2.\n",
    "import pandas as pd\n",
    "\n",
    "data = {'A': [1, 2, None],  # Missing value\n",
    "        'B': [4, None, 6]}  # Missing value\n",
    "\n",
    "df = pd.DataFrame(data)\n",
    "mean_value = df.mean()\n",
    "df.fillna(mean_value,inplace=True)  # Error: fillna() does not modify in place, so add inplace=True \n",
    "\n",
    "print(df)\n"
   ]
  },
  {
   "cell_type": "code",
   "execution_count": 3,
   "id": "e65cb6bb",
   "metadata": {},
   "outputs": [
    {
     "name": "stdout",
     "output_type": "stream",
     "text": [
      "[12.]\n",
      "[[1]\n",
      " [2]\n",
      " [3]\n",
      " [4]\n",
      " [5]]\n"
     ]
    }
   ],
   "source": [
    "#3.from sklearn.linear_model import LinearRegression\n",
    "import numpy as np\n",
    "from sklearn.linear_model import LinearRegression\n",
    "\n",
    "X = np.array([1, 2, 3, 4, 5])  # Error: Expected 2D array, got 1D array instead, \n",
    "Xreshape=X.reshape(-1,1)       #when we train model python excepts 2d arra which means both row and column \n",
    "y = np.array([2, 4, 6, 8, 10])\n",
    "\n",
    "\n",
    "model = LinearRegression()\n",
    "model.fit(Xreshape, y)\n",
    "print(model.predict([[6]]))  # Predict for new value\n",
    "\n",
    "print(Xreshape)\n"
   ]
  },
  {
   "cell_type": "code",
   "execution_count": 4,
   "id": "b60f10de",
   "metadata": {},
   "outputs": [
    {
     "name": "stdout",
     "output_type": "stream",
     "text": [
      "[[-1.41421356]\n",
      " [-0.70710678]\n",
      " [ 0.        ]\n",
      " [ 0.70710678]\n",
      " [ 1.41421356]]\n"
     ]
    }
   ],
   "source": [
    "#4.\n",
    "from sklearn.preprocessing import StandardScaler\n",
    "import numpy as np\n",
    "\n",
    "data = np.array([10, 20, 30, 40, 50])  # Error: Should be 2D\n",
    "data_reshape=data.reshape(-1, 1) #or we can convert np.array([[10], [20], [30], [40], [50]]) too\n",
    "scaler = StandardScaler()\n",
    "scaled_data = scaler.fit_transform(data_reshape)\n",
    "\n",
    "print(scaled_data)\n"
   ]
  },
  {
   "cell_type": "code",
   "execution_count": 5,
   "id": "da46280a",
   "metadata": {},
   "outputs": [
    {
     "name": "stdout",
     "output_type": "stream",
     "text": [
      "[1]\n",
      "[1 0 1]\n"
     ]
    }
   ],
   "source": [
    "#5.\n",
    "from sklearn.linear_model import LogisticRegression\n",
    "from sklearn.preprocessing import LabelEncoder\n",
    "\n",
    "X = [[1, 2], [3, 4], [5, 6]]\n",
    "y = ['yes', 'no', 'yes']  # Error: Labels should be numeric\n",
    "le = LabelEncoder()\n",
    "y_encoded = le.fit_transform(y)\n",
    "\n",
    "model = LogisticRegression()\n",
    "model.fit(X, y_encoded)\n",
    "\n",
    "print(model.predict([[4, 5]]))\n",
    "print(y_encoded)\n"
   ]
  },
  {
   "cell_type": "code",
   "execution_count": 6,
   "id": "a6845ab1",
   "metadata": {},
   "outputs": [
    {
     "name": "stdout",
     "output_type": "stream",
     "text": [
      "[[1. 0. 0.]\n",
      " [0. 1. 0.]\n",
      " [0. 0. 1.]\n",
      " [1. 0. 0.]]\n"
     ]
    }
   ],
   "source": [
    "#6.import pandas as pd\n",
    "from sklearn.preprocessing import OneHotEncoder\n",
    "import pandas as pd\n",
    "\n",
    "df = pd.DataFrame({'Category': ['A', 'B', 'C', 'A']})\n",
    "X= df[['Category']]\n",
    "\n",
    "encoder = OneHotEncoder(sparse_output=False)\n",
    "encoded = encoder.fit_transform(X)  \n",
    "print(encoded)\n"
   ]
  },
  {
   "cell_type": "code",
   "execution_count": 7,
   "id": "e4e1665b",
   "metadata": {},
   "outputs": [
    {
     "name": "stdout",
     "output_type": "stream",
     "text": [
      "X_train: [[1, 2], [5, 6], [7, 8]]\n",
      "y_train: [0, 0, 1]\n"
     ]
    }
   ],
   "source": [
    "#6.\n",
    "from sklearn.model_selection import train_test_split\n",
    "\n",
    "X = [[1, 2], [3, 4], [5, 6], [7, 8]]\n",
    "#y = [0, 1, 0] #target variable has only 3 values expected 4 so it makes inconsistent numbers of samples\n",
    "y = [0, 1, 0, 1]\n",
    "X_train, X_test, y_train, y_test = train_test_split(X, y, test_size=0.2)\n",
    "print(\"X_train:\", X_train)\n",
    "print(\"y_train:\", y_train)\n",
    "\n"
   ]
  },
  {
   "cell_type": "code",
   "execution_count": 12,
   "id": "6f9a8ec4",
   "metadata": {},
   "outputs": [
    {
     "name": "stdout",
     "output_type": "stream",
     "text": [
      "[1]\n",
      "[1 0 1]\n"
     ]
    }
   ],
   "source": [
    "#7.from sklearn.linear_model import LogisticRegression\n",
    "from sklearn.linear_model import LogisticRegression\n",
    "from sklearn.preprocessing import LabelEncoder\n",
    "\n",
    "X_train = [[1, 2], [3, 4], [5, 6]]\n",
    "y_train = [\"yes\", \"no\", \"yes\"]  # Error: LogisticRegression expects numerical labels\n",
    "\n",
    "le = LabelEncoder()\n",
    "y_encoded = le.fit_transform(y_train)\n",
    "\n",
    "model = LogisticRegression()\n",
    "model.fit(X_train,y_encoded)\n",
    "\n",
    "print(model.predict([[3, 4]]))\n",
    "print(y_encoded)\n"
   ]
  },
  {
   "cell_type": "code",
   "execution_count": 13,
   "id": "ee13984b",
   "metadata": {},
   "outputs": [
    {
     "name": "stdout",
     "output_type": "stream",
     "text": [
      "Predicted Output: [20.]\n"
     ]
    }
   ],
   "source": [
    "#8.\n",
    "import numpy as np\n",
    "import pandas as pd\n",
    "from sklearn.linear_model import LinearRegression\n",
    "from sklearn.impute import SimpleImputer # one of the pre processing method \n",
    "\n",
    "# Creating a dataset with missing values\n",
    "X_train = np.array([[1, 2], [3, np.nan], [5, 6]])\n",
    "y_train = np.array([10, 20, 30])\n",
    "\n",
    "imputer = SimpleImputer(strategy=\"mean\")\n",
    "X_train_imputed = imputer.fit_transform(X_train)\n",
    "\n",
    "model = LinearRegression()\n",
    "model.fit(X_train_imputed, y_train)  \n",
    "\n",
    "prediction = model.predict([[3, 4]])\n",
    "print(\"Predicted Output:\", prediction)\n",
    "\n"
   ]
  },
  {
   "cell_type": "code",
   "execution_count": 14,
   "id": "29fdd8c5",
   "metadata": {},
   "outputs": [
    {
     "name": "stdout",
     "output_type": "stream",
     "text": [
      "[1 0 1]\n",
      "[1]\n"
     ]
    }
   ],
   "source": [
    "#9.\n",
    "from sklearn.tree import DecisionTreeClassifier\n",
    "from sklearn.preprocessing import LabelEncoder\n",
    "\n",
    "X_train = [[1, 2], [3, 4], [5, 6]]\n",
    "y_train = [\"spam\", \"ham\", \"spam\"]  # Error: String labels not allowed\n",
    "\n",
    "le= LabelEncoder()\n",
    "y_train_labeld=le.fit_transform(y_train) \n",
    "\n",
    "model = DecisionTreeClassifier()\n",
    "model.fit(X_train, y_train_labeld)\n",
    "\n",
    "print(y_train_labeld)\n",
    "print(model.predict([[6,8]]))\n"
   ]
  },
  {
   "cell_type": "code",
   "execution_count": 15,
   "id": "4057ff6d",
   "metadata": {},
   "outputs": [
    {
     "name": "stdout",
     "output_type": "stream",
     "text": [
      "[0]\n"
     ]
    }
   ],
   "source": [
    "#10.\n",
    "from sklearn.svm import SVC\n",
    "from sklearn.preprocessing import StandardScaler\n",
    "\n",
    "X_train = [[1, 100], [2, 200], [3, 300]]\n",
    "y_train = [0, 1, 0]\n",
    "\n",
    "scaler = StandardScaler()\n",
    "X_train_scaled = scaler.fit_transform(X_train)\n",
    "\n",
    "\n",
    "model = SVC()\n",
    "model.fit(X_train_scaled, y_train)\n",
    "print(model.predict([[1, 150]]))  # Unreliable output due to large-scale difference\n"
   ]
  },
  {
   "cell_type": "code",
   "execution_count": null,
   "id": "045c1234",
   "metadata": {},
   "outputs": [],
   "source": []
  }
 ],
 "metadata": {
  "kernelspec": {
   "display_name": "Python 3 (ipykernel)",
   "language": "python",
   "name": "python3"
  },
  "language_info": {
   "codemirror_mode": {
    "name": "ipython",
    "version": 3
   },
   "file_extension": ".py",
   "mimetype": "text/x-python",
   "name": "python",
   "nbconvert_exporter": "python",
   "pygments_lexer": "ipython3",
   "version": "3.12.7"
  }
 },
 "nbformat": 4,
 "nbformat_minor": 5
}
