{
 "cells": [
  {
   "cell_type": "code",
   "execution_count": 1,
   "id": "e0cda6bb",
   "metadata": {
    "id": "e0cda6bb"
   },
   "outputs": [
    {
     "name": "stdout",
     "output_type": "stream",
     "text": [
      "Hello: satish\n"
     ]
    }
   ],
   "source": [
    "#1.What is wrong with the following function definition, and how do you fix it?\n",
    "\n",
    "\n",
    "def say_hello(name):    # the function is in complete so compete with :\n",
    "    print(\"Hello:\", name) #we should use comma not + to seperate variable and string\n",
    "\n",
    "name=\"satish\"\n",
    "say_hello(name)"
   ]
  },
  {
   "cell_type": "code",
   "execution_count": 2,
   "id": "8e33c083",
   "metadata": {
    "id": "8e33c083"
   },
   "outputs": [
    {
     "name": "stdout",
     "output_type": "stream",
     "text": [
      "I am  25  years old\n"
     ]
    }
   ],
   "source": [
    "#2.What error will occur in the following code, and how do you fix it?\n",
    "\n",
    "\n",
    "age = 25\n",
    "print(\"I am \" ,age,\" years old\") #we should use comma not + to seperate variable and string\n"
   ]
  },
  {
   "cell_type": "code",
   "execution_count": 3,
   "id": "52da6958",
   "metadata": {
    "id": "52da6958"
   },
   "outputs": [
    {
     "name": "stdout",
     "output_type": "stream",
     "text": [
      "Hello\n"
     ]
    }
   ],
   "source": [
    "#3.Question:\n",
    "#What is the issue with the following code?\n",
    "# we should give print statement either inside of function or out side, if we give out side we should call the function first\n",
    "def greet():\n",
    "    message = \"Hello\"\n",
    "    print(message)\n",
    "\n",
    "greet()\n"
   ]
  },
  {
   "cell_type": "code",
   "execution_count": 4,
   "id": "98d811ab",
   "metadata": {
    "id": "98d811ab"
   },
   "outputs": [
    {
     "name": "stdout",
     "output_type": "stream",
     "text": [
      "15\n"
     ]
    }
   ],
   "source": [
    "#4.What error will occur in the following code, and how do you fix it?\n",
    "# we should give print statement either inside of function or out side, if we give out side we should call return statement first\n",
    "def add(a, b):\n",
    "    return a + b\n",
    "\n",
    "print(add(5,10)) #Note: see the parameter is two digit but we pass the parameter  one \n"
   ]
  },
  {
   "cell_type": "code",
   "execution_count": 5,
   "id": "87cdb40a",
   "metadata": {
    "id": "87cdb40a"
   },
   "outputs": [
    {
     "data": {
      "text/plain": [
       "True"
      ]
     },
     "execution_count": 5,
     "metadata": {},
     "output_type": "execute_result"
    }
   ],
   "source": [
    "#5.What is wrong with this code?\n",
    "\n",
    "def is_even(n):\n",
    "    if n % 2 == 0:      #if we pass the n value in % and we get some reminder that means its odd not even \n",
    "        return True\n",
    "    else:\n",
    "        return False\n",
    "\n",
    "is_even(10)\n"
   ]
  },
  {
   "cell_type": "code",
   "execution_count": 6,
   "id": "9849beed",
   "metadata": {
    "id": "9849beed"
   },
   "outputs": [
    {
     "name": "stdout",
     "output_type": "stream",
     "text": [
      "10\n",
      "10\n"
     ]
    }
   ],
   "source": [
    "#6.What happens when you run this code?\n",
    "\n",
    "num = int(10) #Error: invalid literal for int() with base 10: '10a'\n",
    "print(num)\n",
    "\n",
    "num = int(10) #Error: invalid decimal literal\n",
    "print(num)\n"
   ]
  },
  {
   "cell_type": "code",
   "execution_count": 7,
   "id": "e2de2ed1",
   "metadata": {
    "id": "e2de2ed1"
   },
   "outputs": [
    {
     "name": "stdout",
     "output_type": "stream",
     "text": [
      "[4, 3, 2, 1] the Largest number: 4\n"
     ]
    }
   ],
   "source": [
    "#7.What will happen when you run the following code?\n",
    "\n",
    "\n",
    "numbers = [1, 2, 3, 4]\n",
    "numbers.sort()\n",
    "numbers.reverse()\n",
    "Largest=numbers[0]\n",
    "print(numbers,\"the Largest number:\",Largest)\n"
   ]
  },
  {
   "cell_type": "code",
   "execution_count": 8,
   "id": "76c3f328",
   "metadata": {
    "id": "76c3f328"
   },
   "outputs": [
    {
     "name": "stdout",
     "output_type": "stream",
     "text": [
      "[1, 2, 3, 4]\n"
     ]
    }
   ],
   "source": [
    "#8.What is the issue with this code?\n",
    "\n",
    "\n",
    "numbers = [1, 2, 3]\n",
    "numbers.append(4)     #we can't assign append in variable\n",
    "                       #Note : we made this  change in  list but can't in tuple because its mutable \n",
    "\n",
    "print(numbers)\n"
   ]
  },
  {
   "cell_type": "code",
   "execution_count": 9,
   "id": "4e03b70d",
   "metadata": {
    "id": "4e03b70d"
   },
   "outputs": [
    {
     "name": "stdout",
     "output_type": "stream",
     "text": [
      "11\n"
     ]
    }
   ],
   "source": [
    "#9.What will happen when you run the following code?\n",
    "\n",
    "#Error: cannot access local variable 'count' where it is not associated with a value\n",
    "def increment(count):\n",
    "    #count = 10  #we should pass the variable inside the function or make as a parameter to pass external variable\n",
    "    count += 1\n",
    "    print(count)\n",
    "\n",
    "count = 10\n",
    "increment(count)\n"
   ]
  },
  {
   "cell_type": "code",
   "execution_count": 11,
   "id": "2034a700",
   "metadata": {
    "id": "2034a700"
   },
   "outputs": [
    {
     "name": "stdout",
     "output_type": "stream",
     "text": [
      "o\n"
     ]
    }
   ],
   "source": [
    "#10.What error will occur in the following code?\n",
    "#Error: string index out of range\n",
    "#text = \"Python\"\n",
    "#print(text[10])\n",
    "\n",
    "#so.,\n",
    "text = \"PythonPython\"\n",
    "print(text[10])\n"
   ]
  },
  {
   "cell_type": "code",
   "execution_count": null,
   "id": "43418092",
   "metadata": {
    "id": "43418092"
   },
   "outputs": [],
   "source": []
  }
 ],
 "metadata": {
  "colab": {
   "provenance": []
  },
  "kernelspec": {
   "display_name": "Python 3 (ipykernel)",
   "language": "python",
   "name": "python3"
  },
  "language_info": {
   "codemirror_mode": {
    "name": "ipython",
    "version": 3
   },
   "file_extension": ".py",
   "mimetype": "text/x-python",
   "name": "python",
   "nbconvert_exporter": "python",
   "pygments_lexer": "ipython3",
   "version": "3.12.7"
  }
 },
 "nbformat": 4,
 "nbformat_minor": 5
}
