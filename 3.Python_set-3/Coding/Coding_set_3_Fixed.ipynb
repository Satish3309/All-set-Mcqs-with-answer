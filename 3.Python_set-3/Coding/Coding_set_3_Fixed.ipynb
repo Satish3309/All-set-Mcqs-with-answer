{
 "cells": [
  {
   "cell_type": "code",
   "execution_count": 14,
   "id": "511e5dbe",
   "metadata": {
    "id": "511e5dbe"
   },
   "outputs": [
    {
     "name": "stdout",
     "output_type": "stream",
     "text": [
      "1 4 9 16 25 "
     ]
    }
   ],
   "source": [
    "#1. Square of Numbers from 1 to 5\n",
    "#Output:\n",
    "#1 4 9 16 25\n",
    "def squre_number_upto(n):\n",
    "    for i in range(1,n+1):\n",
    "        print (i**2,end=' ')\n",
    "         \n",
    "squre_number_upto(5)\n"
   ]
  },
  {
   "cell_type": "code",
   "execution_count": 15,
   "id": "e886abee",
   "metadata": {
    "id": "e886abee"
   },
   "outputs": [
    {
     "name": "stdout",
     "output_type": "stream",
     "text": [
      "a = 10\n",
      "b = 5\n"
     ]
    }
   ],
   "source": [
    "#2.Swap Two Variables Without Using a Temporary Variable\n",
    "#Question: Write a Python program to swap two variables a = 5 and b = 10 without using a temporary variable.\n",
    " #a = 5 and b = 10\n",
    "a = 5\n",
    "b = 10\n",
    "\n",
    "a = a + b  # a becomes 15\n",
    "b = a - b  # b becomes 5 (original value of a)\n",
    "a = a - b  # a becomes 10 (original value of b)\n",
    "\n",
    "print(\"a =\", a)\n",
    "print(\"b =\", b)\n",
    "\n"
   ]
  },
  {
   "cell_type": "code",
   "execution_count": 26,
   "id": "adfc0479",
   "metadata": {
    "id": "adfc0479"
   },
   "outputs": [
    {
     "name": "stdout",
     "output_type": "stream",
     "text": [
      "12 is even\n",
      "17 is odd\n",
      "19 is odd\n",
      "24 is even\n",
      "35 is odd\n",
      "40 is even\n",
      "56 is even\n"
     ]
    },
    {
     "data": {
      "text/plain": [
       "'even'"
      ]
     },
     "execution_count": 26,
     "metadata": {},
     "output_type": "execute_result"
    }
   ],
   "source": [
    " #3.Find Even and Odd Numbers in a List\n",
    "#Question: Write a Python program to separate even and odd numbers from the list [12, 17, 19, 24, 35, 40, 56].\n",
    "def find_odd_even(num):\n",
    "    for i in num:\n",
    "        if (i%2==0):\n",
    "            print (i ,\"is even\")\n",
    "            message=\"even\"\n",
    "        else:\n",
    "            print (i,'is odd')\n",
    "            message=\"odd\"\n",
    "    return message\n",
    "num= [12, 17, 19, 24, 35, 40, 56]\n",
    "find_odd_even(num)\n"
   ]
  },
  {
   "cell_type": "code",
   "execution_count": 33,
   "id": "9bd0afd7",
   "metadata": {
    "id": "9bd0afd7"
   },
   "outputs": [
    {
     "name": "stdout",
     "output_type": "stream",
     "text": [
      "54321\n"
     ]
    },
    {
     "data": {
      "text/plain": [
       "'54321'"
      ]
     },
     "execution_count": 33,
     "metadata": {},
     "output_type": "execute_result"
    }
   ],
   "source": [
    "#4. Reverse a Number\n",
    "#Question: Write a Python program to reverse the number 12345.\n",
    "def reverse(num):\n",
    "    num1=str(num)\n",
    "    reverse_num=num1[::-1]\n",
    "    print (reverse_num)\n",
    "    message=reverse_num\n",
    "    return message \n",
    "\n",
    "num=12345\n",
    "reverse(num)\n"
   ]
  },
  {
   "cell_type": "code",
   "execution_count": 40,
   "id": "baf1f666",
   "metadata": {
    "id": "baf1f666"
   },
   "outputs": [
    {
     "name": "stdout",
     "output_type": "stream",
     "text": [
      "Second largest: 45\n"
     ]
    },
    {
     "data": {
      "text/plain": [
       "45"
      ]
     },
     "execution_count": 40,
     "metadata": {},
     "output_type": "execute_result"
    }
   ],
   "source": [
    "#5. Find the Second Largest Number in a List\n",
    "#Question: Write a Python program to find the second largest number in the list [12, 45, 98, 34, 23].\n",
    "def find_2nd_Largest(my_list):\n",
    "    sorted_list=sorted(my_list)\n",
    "    second_Largest=sorted_list[-2]\n",
    "    print (\"Second largest:\", second_Largest)\n",
    "    return second_Largest\n",
    "    \n",
    "my_list = [12, 45, 98, 34, 23]\n",
    "find_2nd_Largest(my_list)\n",
    "\n",
    "\n"
   ]
  },
  {
   "cell_type": "code",
   "execution_count": null,
   "id": "8f699783-6203-46fb-b29a-b5567fdd637a",
   "metadata": {},
   "outputs": [],
   "source": []
  },
  {
   "cell_type": "markdown",
   "id": "14be2b54-93b9-44d4-a781-be0bc26dfc39",
   "metadata": {},
   "source": []
  }
 ],
 "metadata": {
  "colab": {
   "provenance": []
  },
  "kernelspec": {
   "display_name": "Python 3 (ipykernel)",
   "language": "python",
   "name": "python3"
  },
  "language_info": {
   "codemirror_mode": {
    "name": "ipython",
    "version": 3
   },
   "file_extension": ".py",
   "mimetype": "text/x-python",
   "name": "python",
   "nbconvert_exporter": "python",
   "pygments_lexer": "ipython3",
   "version": "3.12.7"
  }
 },
 "nbformat": 4,
 "nbformat_minor": 5
}
