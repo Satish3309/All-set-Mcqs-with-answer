{
 "cells": [
  {
   "cell_type": "code",
   "execution_count": 1,
   "id": "d6b7b6f4",
   "metadata": {},
   "outputs": [
    {
     "name": "stdout",
     "output_type": "stream",
     "text": [
      "4.0\n"
     ]
    }
   ],
   "source": [
    "#1.Find the error in the following Python code:\n",
    "#import math\n",
    "#print(Math.sqrt(16))\n",
    "#ans:Issue: Math should be lowercase as math.\n",
    "import math\n",
    "print(math.sqrt(16))\n"
   ]
  },
  {
   "cell_type": "markdown",
   "id": "54500437-b8f5-4abd-9625-8c9e4dafa24b",
   "metadata": {},
   "source": [
    "#2.Find the error in the following Python code:\n",
    "\n",
    "def my_function():\n",
    "    x += 5\n",
    "    print(x)\n",
    "\n",
    "x = 10\n",
    "my_function()\n"
   ]
  },
  {
   "cell_type": "code",
   "execution_count": 5,
   "id": "379d7c73-a18d-43c3-8244-658af17c12c6",
   "metadata": {},
   "outputs": [
    {
     "name": "stdout",
     "output_type": "stream",
     "text": [
      "15\n",
      "15\n"
     ]
    }
   ],
   "source": [
    "#ans:Issue: x is modified inside the function without being declared as global.\n",
    "#x is not defined in this function \n",
    "def my_function():\n",
    "    global x\n",
    "    x += 5\n",
    "    print(x)\n",
    "\n",
    "x = 10\n",
    "my_function()\n",
    "\n",
    "\n",
    "#Another method we should define the x value in side the function or as parameter\n",
    "def my_function(x):\n",
    "    x += 5\n",
    "    print(x)\n",
    "\n",
    "\n",
    "my_function(10)"
   ]
  },
  {
   "cell_type": "markdown",
   "id": "541103a4-7ee4-466e-9949-b22f6ef69708",
   "metadata": {},
   "source": [
    "#3.x = 5\n",
    "if x = 10:\n",
    "    print(\"x is 10\")\n"
   ]
  },
  {
   "cell_type": "code",
   "execution_count": 7,
   "id": "44a83c40",
   "metadata": {},
   "outputs": [
    {
     "name": "stdout",
     "output_type": "stream",
     "text": [
      "x value is: 5\n"
     ]
    }
   ],
   "source": [
    "#ans:Issue: = is an assignment operator; == is needed for comparison.\n",
    "#Fixed Code:\n",
    "x = 5\n",
    "if x == 10:\n",
    "    print(\"x is 10\")\n",
    "\n",
    "if x<10:\n",
    "    print(\"x value is:\",x)"
   ]
  },
  {
   "cell_type": "code",
   "execution_count": 9,
   "id": "9cdb513c-9573-4282-9b49-19d2d0932220",
   "metadata": {},
   "outputs": [
    {
     "name": "stdout",
     "output_type": "stream",
     "text": [
      "[2, 3, 5, 8]\n"
     ]
    }
   ],
   "source": [
    "#4.\n",
    "#numbers = [5, 3, 8, 2]\n",
    "#print(numbers.sort())\n",
    "\n",
    "#Note: .sort() doesn’t return the sorted list—it modifies the original so we need to write seperate\n",
    "#Fixed Code:\n",
    "numbers = [5,3,8,2]\n",
    "numbers.sort()\n",
    "print(numbers)\n",
    "\n"
   ]
  },
  {
   "cell_type": "code",
   "execution_count": 11,
   "id": "f7bcdd3d",
   "metadata": {},
   "outputs": [
    {
     "name": "stdout",
     "output_type": "stream",
     "text": [
      "16\n"
     ]
    }
   ],
   "source": [
    "#5.\n",
    "#def square(n):\n",
    "   # n * n\n",
    "#print(square(4))\n",
    "# Note: any thing we write inside the print it should give its return\n",
    "def square(n):\n",
    "    return n * n\n",
    "\n",
    "print(square(4))\n"
   ]
  },
  {
   "cell_type": "code",
   "execution_count": 12,
   "id": "0eb6471f",
   "metadata": {},
   "outputs": [],
   "source": [
    "#6.\n",
    "#my_tuple = (1, 2, 3)\n",
    "#my_tuple[1] = 5\n",
    "# unlike List, we cant join new word in tuple because its immutable so we can create new tuple with new word or number\n",
    "my_tuple = (1, 5, 3)  # Create a new tuple"
   ]
  },
  {
   "cell_type": "code",
   "execution_count": 17,
   "id": "0922b838",
   "metadata": {},
   "outputs": [
    {
     "name": "stdout",
     "output_type": "stream",
     "text": [
      "My name is Alice and I am 25 years old\n",
      "My name is Alice and I am 25 years old\n"
     ]
    }
   ],
   "source": [
    "#7.\n",
    "#name = \"Alice\"\n",
    "#age = 25\n",
    "#print(\"My name is %s and I am %d years old\" % (name))\n",
    "#ans:Issue: The format placeholders are missing a required argument.\n",
    "#Fixed Code:\n",
    "name = \"Alice\"\n",
    "age = 25\n",
    "print(\"My name is %s and I am %d years old\" % (name,age)) #note: %s string , %d is real number\n",
    "print(f\"My name is {name} and I am {age} years old\")\n"
   ]
  },
  {
   "cell_type": "code",
   "execution_count": 25,
   "id": "068a516c-bba0-4cdd-94d1-e4bc9c532238",
   "metadata": {},
   "outputs": [
    {
     "name": "stdout",
     "output_type": "stream",
     "text": [
      "Lists are equal\n"
     ]
    }
   ],
   "source": [
    "#8.\n",
    "#a = [1, 2, 3]\n",
    "#b = [1, 2, 3]\n",
    "#if a is b:\n",
    "   # print(\"Lists are equal\")\n",
    "\n",
    "#Note: key word 'is' checks for object identity, not value equality.\n",
    "a = [1, 2, 3]\n",
    "b = [1, 2, 3]\n",
    "if a == b:\n",
    "    print(\"Lists are equal\") #(==) checks equality \n",
    "    "
   ]
  },
  {
   "cell_type": "code",
   "execution_count": 26,
   "id": "8814409a-02f2-404d-b133-0794661ac790",
   "metadata": {},
   "outputs": [
    {
     "name": "stdout",
     "output_type": "stream",
     "text": [
      "a has no value\n"
     ]
    }
   ],
   "source": [
    "a = None\n",
    "if a is None:\n",
    "    print (\"a has no value\")# 'is' checks identity"
   ]
  },
  {
   "cell_type": "code",
   "execution_count": 27,
   "id": "5ce21be8",
   "metadata": {},
   "outputs": [
    {
     "name": "stdout",
     "output_type": "stream",
     "text": [
      "5\n",
      "4\n",
      "3\n",
      "2\n"
     ]
    }
   ],
   "source": [
    "#9.\n",
    "#for i in range(5, 1):\n",
    "    #print(i)\n",
    "\n",
    "#Note: The range(5, 1) does not produce any numbers because the default step is +1.\n",
    "\n",
    "\n",
    "for i in range(5, 1, -1):  # Step should be negative to decrement\n",
    "    print(i)\n"
   ]
  },
  {
   "cell_type": "code",
   "execution_count": 29,
   "id": "83d119d7",
   "metadata": {},
   "outputs": [
    {
     "name": "stdout",
     "output_type": "stream",
     "text": [
      "John\n"
     ]
    }
   ],
   "source": [
    "#10.\n",
    "#student = {\"name\": \"John\", \"age\": 20}\n",
    "#print(student[name])\n",
    "#Note: The key should be a string, but name is not defined as a variable.\n",
    "student = {\"name\": \"John\", \"age\": 20}\n",
    "print(student[\"name\"])"
   ]
  },
  {
   "cell_type": "code",
   "execution_count": null,
   "id": "1dcb2ce8-60c0-4dc4-96e1-5a5f471ae3e7",
   "metadata": {},
   "outputs": [],
   "source": []
  }
 ],
 "metadata": {
  "kernelspec": {
   "display_name": "Python 3 (ipykernel)",
   "language": "python",
   "name": "python3"
  },
  "language_info": {
   "codemirror_mode": {
    "name": "ipython",
    "version": 3
   },
   "file_extension": ".py",
   "mimetype": "text/x-python",
   "name": "python",
   "nbconvert_exporter": "python",
   "pygments_lexer": "ipython3",
   "version": "3.12.7"
  }
 },
 "nbformat": 4,
 "nbformat_minor": 5
}
