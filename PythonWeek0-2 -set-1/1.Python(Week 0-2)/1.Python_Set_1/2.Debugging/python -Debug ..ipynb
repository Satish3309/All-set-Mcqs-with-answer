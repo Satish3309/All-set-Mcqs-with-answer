{
 "cells": [
  {
   "cell_type": "code",
   "execution_count": 1,
   "id": "8e02775a",
   "metadata": {},
   "outputs": [
    {
     "name": "stdout",
     "output_type": "stream",
     "text": [
      "0\n",
      "2\n",
      "4\n"
     ]
    }
   ],
   "source": [
    "#1.Find the error in the following Python code:\n",
    "\n",
    "for i in range(0,5,2):\n",
    "     print(i)\n",
    "# Answer: for loop should start in left corner no space needed\n",
    "# Note: if we use rage it should be the formate of (start,stop,step) additionally : should present in end "
   ]
  },
  {
   "cell_type": "code",
   "execution_count": 2,
   "id": "df3cee51",
   "metadata": {},
   "outputs": [
    {
     "name": "stdout",
     "output_type": "stream",
     "text": [
      "15\n",
      "15\n"
     ]
    }
   ],
   "source": [
    "#2.What will be the output of this code?\n",
    "\n",
    "a = 10\n",
    "b = 5\n",
    "print(a + b)\n",
    "a1='10'\n",
    "b1='5'\n",
    "print(a+b)\n",
    "# we cant add string with integer so we should convert sring to integer or convert int to sting "
   ]
  },
  {
   "cell_type": "code",
   "execution_count": 1,
   "id": "15c2e7b2",
   "metadata": {},
   "outputs": [],
   "source": [
    "#3.What is the issue in this Python snippet?\n",
    "# the issue is indent error (no space needed to start def and we should not forget : at end)\n",
    "def add_numbers(a, b):\n",
    "    return a + b\n"
   ]
  },
  {
   "cell_type": "code",
   "execution_count": 2,
   "id": "2f8e5efd",
   "metadata": {},
   "outputs": [
    {
     "name": "stdout",
     "output_type": "stream",
     "text": [
      "numbers: [4]\n"
     ]
    }
   ],
   "source": [
    "\n",
    "#4.Identify the bug in the following Python code:\n",
    "# numbers should write as string\n",
    "numbers = [1, 2, 3, 4]\n",
    "print('numbers:',[4])\n"
   ]
  },
  {
   "cell_type": "code",
   "execution_count": 8,
   "id": "bc0080c1",
   "metadata": {},
   "outputs": [
    {
     "name": "stdout",
     "output_type": "stream",
     "text": [
      "Hello, World!\n"
     ]
    }
   ],
   "source": [
    "#5.Find the error in the following Python code:\n",
    "# Missing parentheses\n",
    "print (\"Hello, World!\")"
   ]
  },
  {
   "cell_type": "code",
   "execution_count": 13,
   "id": "5b449ecb",
   "metadata": {},
   "outputs": [],
   "source": [
    "#6.Find the error in the following Python code:\n",
    "x = 5\n",
    "# we can't perform division by zero because it's infinitive "
   ]
  },
  {
   "cell_type": "code",
   "execution_count": 16,
   "id": "79260565",
   "metadata": {},
   "outputs": [
    {
     "name": "stdout",
     "output_type": "stream",
     "text": [
      "Name:  Alice  Age:  25\n"
     ]
    }
   ],
   "source": [
    "#7.Find the error in the following Python code:name = \"Alice\"\n",
    "# first we should save Alice in Name variable \n",
    "name=\"Alice\"\n",
    "age = 25\n",
    "print(\"Name: \" , name , \" Age: \" , age)\n",
    "# then seperate sting and int with comma \n"
   ]
  },
  {
   "cell_type": "code",
   "execution_count": 19,
   "id": "3e4b6f3b",
   "metadata": {},
   "outputs": [
    {
     "name": "stdout",
     "output_type": "stream",
     "text": [
      "1\n",
      "2\n",
      "3\n",
      "4\n",
      "5\n",
      "6\n",
      "7\n",
      "8\n",
      "9\n"
     ]
    }
   ],
   "source": [
    "#8.Find the error\n",
    "# we can't use negative value in step \n",
    "# Note: range (start,stop,step)\n",
    "for i in range(1, 10, 1):\n",
    "    print(i)\n"
   ]
  },
  {
   "cell_type": "code",
   "execution_count": 23,
   "id": "95976c4d",
   "metadata": {},
   "outputs": [
    {
     "name": "stdout",
     "output_type": "stream",
     "text": [
      "invalid_input\n"
     ]
    }
   ],
   "source": [
    "#9. Find the error in the following Python code:\n",
    "# we can't let condition incomplete ex: if x==5 (to compare) or x<=5\n",
    "x = 10\n",
    "if x == 5:\n",
    "    print(\"x is 5\")\n",
    "else:\n",
    "    print ('invalid_input')\n"
   ]
  },
  {
   "cell_type": "code",
   "execution_count": 29,
   "id": "317eca50",
   "metadata": {},
   "outputs": [],
   "source": [
    "#10. Identify the error in the following function definition:\n",
    "name='well done satish'\n",
    "\n",
    "def greet(name):\n",
    "    print(\"Hello!\", name)\n",
    "    return name \n",
    "\n"
   ]
  },
  {
   "cell_type": "code",
   "execution_count": 30,
   "id": "abb5ddc0-85db-4a52-acda-4d748b4d785d",
   "metadata": {},
   "outputs": [
    {
     "name": "stdout",
     "output_type": "stream",
     "text": [
      "Hello! well done satish\n"
     ]
    },
    {
     "data": {
      "text/plain": [
       "'well done satish'"
      ]
     },
     "execution_count": 30,
     "metadata": {},
     "output_type": "execute_result"
    }
   ],
   "source": [
    "greet(name)"
   ]
  },
  {
   "cell_type": "code",
   "execution_count": null,
   "id": "993d9232-8318-4f3a-978f-5a4d2c3d9807",
   "metadata": {},
   "outputs": [],
   "source": []
  }
 ],
 "metadata": {
  "kernelspec": {
   "display_name": "Python 3 (ipykernel)",
   "language": "python",
   "name": "python3"
  },
  "language_info": {
   "codemirror_mode": {
    "name": "ipython",
    "version": 3
   },
   "file_extension": ".py",
   "mimetype": "text/x-python",
   "name": "python",
   "nbconvert_exporter": "python",
   "pygments_lexer": "ipython3",
   "version": "3.12.7"
  }
 },
 "nbformat": 4,
 "nbformat_minor": 5
}
